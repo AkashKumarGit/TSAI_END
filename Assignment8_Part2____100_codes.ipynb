{
  "nbformat": 4,
  "nbformat_minor": 0,
  "metadata": {
    "colab": {
      "name": "Assignment8 : Part2 || 100_codes.ipynb",
      "provenance": []
    },
    "kernelspec": {
      "name": "python3",
      "display_name": "Python 3"
    }
  },
  "cells": [
    {
      "cell_type": "code",
      "metadata": {
        "colab": {
          "base_uri": "https://localhost:8080/"
        },
        "id": "if2Pz-fMrYm4",
        "outputId": "2cfe6af4-c083-4eb7-cb18-00edec0ce947"
      },
      "source": [
        "# 1. Write a python function  to add numbers passed as arguments\n",
        "def add (*a):\n",
        "  temp = 0\n",
        "  for i in a:\n",
        "    temp+= i\n",
        "  print (f'sum :',temp)\n",
        "  \n",
        "\n",
        "add(5,6,7)"
      ],
      "execution_count": 19,
      "outputs": [
        {
          "output_type": "stream",
          "text": [
            "sum : 18\n"
          ],
          "name": "stdout"
        }
      ]
    },
    {
      "cell_type": "code",
      "metadata": {
        "colab": {
          "base_uri": "https://localhost:8080/"
        },
        "id": "0PDjJm2RsOJd",
        "outputId": "86958bc6-0f53-4e56-8b54-314a66940d2e"
      },
      "source": [
        "# 2. Write a python function  to multiply numbers passed as arguments\n",
        "def mult(*a):\n",
        "  temp = 1\n",
        "  for i in a:\n",
        "    temp*= i\n",
        "  return temp\n",
        "  \n",
        "\n",
        "mult(5,6,7)"
      ],
      "execution_count": 20,
      "outputs": [
        {
          "output_type": "execute_result",
          "data": {
            "text/plain": [
              "210"
            ]
          },
          "metadata": {
            "tags": []
          },
          "execution_count": 20
        }
      ]
    },
    {
      "cell_type": "code",
      "metadata": {
        "colab": {
          "base_uri": "https://localhost:8080/"
        },
        "id": "lNTei5wwsbMo",
        "outputId": "720bd767-6349-4a2b-c1c0-afa8fb29903c"
      },
      "source": [
        "# 3. Write a python function  to divide 2 numbers passed as arguments\n",
        "def div (a,b):\n",
        "  div = a/b\n",
        "  return div\n",
        "  \n",
        "\n",
        "div(5,6)"
      ],
      "execution_count": 21,
      "outputs": [
        {
          "output_type": "execute_result",
          "data": {
            "text/plain": [
              "0.8333333333333334"
            ]
          },
          "metadata": {
            "tags": []
          },
          "execution_count": 21
        }
      ]
    },
    {
      "cell_type": "code",
      "metadata": {
        "colab": {
          "base_uri": "https://localhost:8080/"
        },
        "id": "BBJ2skpfvKGg",
        "outputId": "6f5d1bf5-c65d-426d-d68b-5d3e1f01d88a"
      },
      "source": [
        "# Write a function to check if number is odd or even\n",
        "def odd_even(a):\n",
        "  if a % 2 == 0:\n",
        "    print (\"Even\")\n",
        "  else:\n",
        "    print (\"Odd\")\n",
        "\n",
        "odd_even(7)"
      ],
      "execution_count": 23,
      "outputs": [
        {
          "output_type": "stream",
          "text": [
            "Odd\n"
          ],
          "name": "stdout"
        }
      ]
    },
    {
      "cell_type": "code",
      "metadata": {
        "colab": {
          "base_uri": "https://localhost:8080/"
        },
        "id": "YV0v20CnvUnT",
        "outputId": "3973becc-c92c-451c-ca45-f541274ca7de"
      },
      "source": [
        "# 5. Write a python function to find remainder on dividing 2 numbers passed as arguments(Divide 1st argument by 2nd argument)\n",
        "def add (a,b):\n",
        "  mod = a%b\n",
        "  return mod\n",
        "  \n",
        "\n",
        "add(10,6)"
      ],
      "execution_count": 10,
      "outputs": [
        {
          "output_type": "execute_result",
          "data": {
            "text/plain": [
              "4"
            ]
          },
          "metadata": {
            "tags": []
          },
          "execution_count": 10
        }
      ]
    },
    {
      "cell_type": "code",
      "metadata": {
        "colab": {
          "base_uri": "https://localhost:8080/"
        },
        "id": "0Kjn3MeHwDXC",
        "outputId": "a6dc37d8-2639-4bb3-a460-51e36c12eed4"
      },
      "source": [
        "# 6. Function to find greatest among  numbers passed as arguments\n",
        "def greatest(*a):\n",
        "  greatest_num = a[0] \n",
        "  for i in a:\n",
        "    if i > greatest_num:\n",
        "      greatest_num = i\n",
        "  return greatest_num\n",
        "\n",
        "greatest(5,6,4,12,8)"
      ],
      "execution_count": 16,
      "outputs": [
        {
          "output_type": "execute_result",
          "data": {
            "text/plain": [
              "12"
            ]
          },
          "metadata": {
            "tags": []
          },
          "execution_count": 16
        }
      ]
    },
    {
      "cell_type": "code",
      "metadata": {
        "colab": {
          "base_uri": "https://localhost:8080/"
        },
        "id": "UCHZRfA5wxw_",
        "outputId": "04f302eb-2e93-4a53-d0b6-dd03076efc7b"
      },
      "source": [
        "# 7.  Function to find smallest among  numbers passed as arguments\n",
        "def smallest(*a):\n",
        "  smallest_num = a[0] \n",
        "  for i in a:\n",
        "    if i < smallest_num:\n",
        "      smallest_num = i\n",
        "  return smallest_num\n",
        "\n",
        "smallest(5,6,4,12,8)"
      ],
      "execution_count": 17,
      "outputs": [
        {
          "output_type": "execute_result",
          "data": {
            "text/plain": [
              "4"
            ]
          },
          "metadata": {
            "tags": []
          },
          "execution_count": 17
        }
      ]
    },
    {
      "cell_type": "code",
      "metadata": {
        "colab": {
          "base_uri": "https://localhost:8080/"
        },
        "id": "F3EEuyCMxRNJ",
        "outputId": "7fdb71a4-1536-42e7-d142-a14a4e93f6d7"
      },
      "source": [
        "# 8. Function to find average of numbers passed as arguments\n",
        "def average(*a):\n",
        "  temp = 0\n",
        "  for i in a:\n",
        "    temp+= i\n",
        "  return temp/len(a)\n",
        "\n",
        "average(5,6,7)"
      ],
      "execution_count": 18,
      "outputs": [
        {
          "output_type": "execute_result",
          "data": {
            "text/plain": [
              "6.0"
            ]
          },
          "metadata": {
            "tags": []
          },
          "execution_count": 18
        }
      ]
    },
    {
      "cell_type": "code",
      "metadata": {
        "colab": {
          "base_uri": "https://localhost:8080/"
        },
        "id": "VphsGE6j-Zp2",
        "outputId": "ff62b1d7-a86e-4787-b766-633d9a6f6d22"
      },
      "source": [
        "# 9. Function to print length of list\n",
        "def len_list(list1):\n",
        "  temp = 0\n",
        "  for i in list1:\n",
        "    temp+=1\n",
        "  return temp\n",
        "\n",
        "len_list(['a','b','c'])"
      ],
      "execution_count": 27,
      "outputs": [
        {
          "output_type": "execute_result",
          "data": {
            "text/plain": [
              "3"
            ]
          },
          "metadata": {
            "tags": []
          },
          "execution_count": 27
        }
      ]
    },
    {
      "cell_type": "code",
      "metadata": {
        "colab": {
          "base_uri": "https://localhost:8080/"
        },
        "id": "DoxtUIht_YDe",
        "outputId": "516662bd-f303-4489-ea2c-3bb6a30d92d7"
      },
      "source": [
        "# 9. Function to print length of tuple\n",
        "def len_tuple(tuple1):\n",
        "  temp = 0\n",
        "  for i in tuple1:\n",
        "    temp+=1\n",
        "  return temp\n",
        "\n",
        "len_list(('a','b','c'))"
      ],
      "execution_count": 29,
      "outputs": [
        {
          "output_type": "execute_result",
          "data": {
            "text/plain": [
              "3"
            ]
          },
          "metadata": {
            "tags": []
          },
          "execution_count": 29
        }
      ]
    },
    {
      "cell_type": "code",
      "metadata": {
        "colab": {
          "base_uri": "https://localhost:8080/"
        },
        "id": "35RF7Yxd_nF7",
        "outputId": "8903a57d-3ed8-44b3-d2c4-0ed1e8fd56bc"
      },
      "source": [
        "# 10. Function to print length of dictionary\n",
        "def len_dict(dict1):\n",
        "  temp = 0\n",
        "  for i in dict1.items():\n",
        "    temp+=1\n",
        "  return temp\n",
        "\n",
        "len_dict({'a':1,'b':2,'c':3})"
      ],
      "execution_count": 48,
      "outputs": [
        {
          "output_type": "execute_result",
          "data": {
            "text/plain": [
              "3"
            ]
          },
          "metadata": {
            "tags": []
          },
          "execution_count": 48
        }
      ]
    },
    {
      "cell_type": "code",
      "metadata": {
        "colab": {
          "base_uri": "https://localhost:8080/"
        },
        "id": "JImryvft_-BA",
        "outputId": "f4749293-d253-4f66-8960-cc087364f6d3"
      },
      "source": [
        "# 11. Function to check if a number is present in list of numbers\n",
        "def search(a,list1):\n",
        "  if a in list1:\n",
        "    print (\"Number Found\")\n",
        "  else:\n",
        "    print (\"Number not Found\")\n",
        "\n",
        "search(5,[6,5,8,9])"
      ],
      "execution_count": 49,
      "outputs": [
        {
          "output_type": "stream",
          "text": [
            "Number Found\n"
          ],
          "name": "stdout"
        }
      ]
    },
    {
      "cell_type": "code",
      "metadata": {
        "colab": {
          "base_uri": "https://localhost:8080/"
        },
        "id": "G3zaDC3WJZ1x",
        "outputId": "93aa0b61-9d86-4838-e417-1dd1cd606cfd"
      },
      "source": [
        "# 11. Function to find print index of searched number in list of numbers, if that number is present\n",
        "def search_index(a,list1):\n",
        "  flag = 0\n",
        "  for k in range(0,len(list1)):\n",
        "    if list1[k] == a:\n",
        "      print (\"Number found at index:\",k)\n",
        "      flag = 1\n",
        "  if flag == 0:\n",
        "    print (\"Number not found\")\n",
        "\n",
        "search_index(8,[6,5,8,9])"
      ],
      "execution_count": 52,
      "outputs": [
        {
          "output_type": "stream",
          "text": [
            "Number found at index: 2\n"
          ],
          "name": "stdout"
        }
      ]
    },
    {
      "cell_type": "code",
      "metadata": {
        "colab": {
          "base_uri": "https://localhost:8080/"
        },
        "id": "QOwAWFoFLEI9",
        "outputId": "8acc64d5-7380-44a9-9795-37df0adbbe53"
      },
      "source": [
        "# 12. Function to sort a list\n",
        "def sort_num(list1):\n",
        "  for i in range(0,len(list1)):\n",
        "    for j in range(0, len(list1) - 1):\n",
        "      if (list1[j] > list1[j+1]):\n",
        "        temp = list1[j]\n",
        "        list1[j] = list1[j+1]\n",
        "        list1[j+1] = temp\n",
        "  print (list1)\n",
        "\n",
        "sort_num([3,4,2,9,6,4,14,2])"
      ],
      "execution_count": 59,
      "outputs": [
        {
          "output_type": "stream",
          "text": [
            "[2, 2, 3, 4, 4, 6, 9, 14]\n"
          ],
          "name": "stdout"
        }
      ]
    },
    {
      "cell_type": "code",
      "metadata": {
        "colab": {
          "base_uri": "https://localhost:8080/"
        },
        "id": "5rDuKroxaC3n",
        "outputId": "dcef5d7f-a6a2-47da-dec8-a40d15fa07db"
      },
      "source": [
        "# 13. Function to add 2 lists passed as argument\n",
        "def add_list(list1,list2):\n",
        "  if len(list1) == len(list2):\n",
        "    list3=[]\n",
        "    for i in range(0,len(list1)):\n",
        "      list3.append(list1[i] + list2[i])\n",
        "  return list3\n",
        "\n",
        "list4 = add_list([4,3,2,5],[6,7,2,1])\n",
        "print (list4)"
      ],
      "execution_count": 66,
      "outputs": [
        {
          "output_type": "stream",
          "text": [
            "0\n",
            "1\n",
            "2\n",
            "3\n",
            "[10, 10, 4, 6]\n"
          ],
          "name": "stdout"
        }
      ]
    },
    {
      "cell_type": "code",
      "metadata": {
        "colab": {
          "base_uri": "https://localhost:8080/"
        },
        "id": "isjj8R-EcW6z",
        "outputId": "6f61f972-f20a-424c-8655-b33270fa53a6"
      },
      "source": [
        "# 14. Function to add 2 tuples passed as argument\n",
        "def add_tuple(tuple1,tuple2):\n",
        "  if len(tuple1) == len(tuple2):\n",
        "    tuple3=[]\n",
        "    for i in range(0,len(tuple1)):\n",
        "      tuple3.append(tuple1[i] + tuple2[i])\n",
        "  return tuple3\n",
        "\n",
        "list4 = add_tuple([4,3,2,5],[6,7,2,1])\n",
        "print (list4)"
      ],
      "execution_count": 67,
      "outputs": [
        {
          "output_type": "stream",
          "text": [
            "[10, 10, 4, 6]\n"
          ],
          "name": "stdout"
        }
      ]
    },
    {
      "cell_type": "code",
      "metadata": {
        "colab": {
          "base_uri": "https://localhost:8080/"
        },
        "id": "TDhF3jOgcp7L",
        "outputId": "167b7500-0ae3-4949-9002-ad58cd27b77c"
      },
      "source": [
        "# 15. Function to extract positive numbers from a list of numbers\n",
        "def positive_numbers(list1):\n",
        "  list_temp = []\n",
        "  for i in list1:\n",
        "    if i > 0:\n",
        "      list_temp.append(i)\n",
        "  return list_temp\n",
        "\n",
        "pos_num = positive_numbers([4,-3,-2,-6,7])\n",
        "print (pos_num)"
      ],
      "execution_count": 69,
      "outputs": [
        {
          "output_type": "stream",
          "text": [
            "[4, 7]\n"
          ],
          "name": "stdout"
        }
      ]
    },
    {
      "cell_type": "code",
      "metadata": {
        "colab": {
          "base_uri": "https://localhost:8080/"
        },
        "id": "MLNfFtlJfErr",
        "outputId": "348e1e50-c2b1-448b-e6cd-4c3a160983bc"
      },
      "source": [
        "# 16. Function to extract negative numbers from a list of numbers\n",
        "def negative_numbers(list1):\n",
        "  list_temp = []\n",
        "  for i in list1:\n",
        "    if i < 0:\n",
        "      list_temp.append(i)\n",
        "  return list_temp\n",
        "\n",
        "neg_num = negative_numbers([4,-3,-2,-6,7])\n",
        "print (neg_num)"
      ],
      "execution_count": 72,
      "outputs": [
        {
          "output_type": "stream",
          "text": [
            "[-3, -2, -6]\n"
          ],
          "name": "stdout"
        }
      ]
    },
    {
      "cell_type": "code",
      "metadata": {
        "colab": {
          "base_uri": "https://localhost:8080/"
        },
        "id": "obMDgU1ZfbqT",
        "outputId": "566b8427-56b8-4694-8fb6-deb65bc7447e"
      },
      "source": [
        "# 17. Function to extract even numbers from a list of numbers\n",
        "def even_numbers(list1):\n",
        "  list_temp = []\n",
        "  for i in list1:\n",
        "    if i % 2 == 0:\n",
        "      list_temp.append(i)\n",
        "  return list_temp\n",
        "\n",
        "even_num = even_numbers([4,-3,-2,-6,7])\n",
        "print (even_num)\n"
      ],
      "execution_count": 73,
      "outputs": [
        {
          "output_type": "stream",
          "text": [
            "[4, -2, -6]\n"
          ],
          "name": "stdout"
        }
      ]
    },
    {
      "cell_type": "code",
      "metadata": {
        "colab": {
          "base_uri": "https://localhost:8080/"
        },
        "id": "14CTlqvWf8mB",
        "outputId": "82fec4aa-c249-4841-b0c9-91c78316749e"
      },
      "source": [
        "# 17. Function to extract even numbers from a list of numbers\n",
        "def odd_numbers(list1):\n",
        "  list_temp = []\n",
        "  for i in list1:\n",
        "    if i % 2 != 0:\n",
        "      list_temp.append(i)\n",
        "  return list_temp\n",
        "\n",
        "odd_num = odd_numbers([4,-3,-2,-6,7])\n",
        "print (even_num)\n"
      ],
      "execution_count": 75,
      "outputs": [
        {
          "output_type": "stream",
          "text": [
            "[4, -2, -6]\n"
          ],
          "name": "stdout"
        }
      ]
    },
    {
      "cell_type": "code",
      "metadata": {
        "colab": {
          "base_uri": "https://localhost:8080/"
        },
        "id": "FswcIlvGgaPR",
        "outputId": "356276d2-cbb4-44cb-9ff4-561f4bb7debd"
      },
      "source": [
        "# 18. Function to print duplicates in a list\n",
        "def duplicates(list1):\n",
        "  temp = []\n",
        "  for i in range(0,len(list1)-1):\n",
        "    for j in range(i+1,len(list1)):\n",
        "      if list1[i] == list1[j]: \n",
        "        temp.append(list1[i])\n",
        "  return temp\n",
        "\n",
        "dup = duplicates([5,4,6,10,2,2])\n",
        "print (dup)"
      ],
      "execution_count": 80,
      "outputs": [
        {
          "output_type": "stream",
          "text": [
            "[2]\n"
          ],
          "name": "stdout"
        }
      ]
    },
    {
      "cell_type": "code",
      "metadata": {
        "colab": {
          "base_uri": "https://localhost:8080/"
        },
        "id": "GDrl2nfBkjbN",
        "outputId": "9ef35e03-d06a-43db-bed6-57092bba957a"
      },
      "source": [
        "# 19. Count code runtime\n",
        "import time\n",
        "print (\"start execution time:\")\n",
        "print (time.ctime())\n",
        "time.sleep(5)\n",
        "print (\"stop execution time:\")\n",
        "print (time.ctime())"
      ],
      "execution_count": 83,
      "outputs": [
        {
          "output_type": "stream",
          "text": [
            "start execution time:\n",
            "Thu Dec 17 16:42:04 2020\n",
            "stop execution time:\n",
            "Thu Dec 17 16:42:09 2020\n"
          ],
          "name": "stdout"
        }
      ]
    },
    {
      "cell_type": "code",
      "metadata": {
        "colab": {
          "base_uri": "https://localhost:8080/"
        },
        "id": "rRKXBcUYlmNZ",
        "outputId": "317e17b4-2124-42c8-e14d-87ae204c82a8"
      },
      "source": [
        "20. # Function to remove stop words from sentence\n",
        "\n",
        "def remove_stopwords(sent,stop_words):\n",
        "  sent = sent.lower()\n",
        "  sent = sent.split()\n",
        "  temp = []\n",
        "  for i in sent:\n",
        "    if i not in stop_words:\n",
        "      temp.append(i)\n",
        "  sent = ' '.join(temp)\n",
        "  return sent\n",
        "\n",
        "stop_words_list = ['is','was','to','the','of']  # Thisis not exaustive list of stop words\n",
        "sentence = remove_stopwords(\"This is very interesting way of teaching\",stop_words_list)\n",
        "print (sentence)\n"
      ],
      "execution_count": 96,
      "outputs": [
        {
          "output_type": "stream",
          "text": [
            "this very interesting way teaching\n"
          ],
          "name": "stdout"
        }
      ]
    },
    {
      "cell_type": "code",
      "metadata": {
        "colab": {
          "base_uri": "https://localhost:8080/"
        },
        "id": "9R2-LIWmp8Nn",
        "outputId": "f7e4222f-0405-4983-ba9f-052045790f5e"
      },
      "source": [
        "# 21. Function to count number of words in sentence\n",
        "\n",
        "def count_words(sent):\n",
        "  sent = sent.split()\n",
        "  print (len(sent))\n",
        "\n",
        "count_words(\"Have a very nice day\")"
      ],
      "execution_count": 97,
      "outputs": [
        {
          "output_type": "stream",
          "text": [
            "5\n"
          ],
          "name": "stdout"
        }
      ]
    },
    {
      "cell_type": "code",
      "metadata": {
        "colab": {
          "base_uri": "https://localhost:8080/"
        },
        "id": "RRbbdzdEsXiN",
        "outputId": "23fa0ae3-44b8-4188-c3cb-1d8f403bed4b"
      },
      "source": [
        "# 22. Function to check if two strings are same irrespective of uppercase or lowercase \n",
        "def compare_strings(str1,str2):\n",
        "  if str1.lower() == str2.lower():\n",
        "    print (\"Two strings are same\")\n",
        "  else:\n",
        "    print (\"Two strings are not same\")\n",
        "\n",
        "compare_strings(\"Today is Wednesday\",\"today is wednesday\")"
      ],
      "execution_count": 99,
      "outputs": [
        {
          "output_type": "stream",
          "text": [
            "Two strings are same\n"
          ],
          "name": "stdout"
        }
      ]
    },
    {
      "cell_type": "code",
      "metadata": {
        "colab": {
          "base_uri": "https://localhost:8080/"
        },
        "id": "eISuPeGvtkLU",
        "outputId": "c7e35a82-051e-4294-95c5-e61a9dd6dede"
      },
      "source": [
        "# 23. Function to count vowels in a string \n",
        "def count_vowel(str1):\n",
        "  vowels = set(\"aeiouAEIOU\")\n",
        "  count = 0 \n",
        "  for i in str1:\n",
        "    if i in vowels:\n",
        "      count = count + 1\n",
        "  print (\"Number of vowels in sentence\",count)\n",
        "\n",
        "count_vowel(\"This is start of end game\")"
      ],
      "execution_count": 101,
      "outputs": [
        {
          "output_type": "stream",
          "text": [
            "Number of vowels in sentence 7\n"
          ],
          "name": "stdout"
        }
      ]
    }
  ]
}