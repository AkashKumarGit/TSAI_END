{
 "cells": [
  {
   "cell_type": "markdown",
   "metadata": {},
   "source": [
    "# Question 1\n",
    "- Write a function using only list filter lambda that can tell whether a number is a Fibonacci number or not. You can use a pre-calculated list/dict to store fab numbers till 10000 "
   ]
  },
  {
   "cell_type": "code",
   "execution_count": null,
   "metadata": {},
   "outputs": [],
   "source": [
    "seq = range(10000)\n",
    "fib = filter(lambda x:x == 0 or abs(round((0.5 + 0.5 * math.sqrt(5.0))*x) - (0.5 + 0.5 * math.sqrt(5.0))*x) < 1.0 / x,seq)\n",
    "print (list(fib))"
   ]
  },
  {
   "cell_type": "markdown",
   "metadata": {},
   "source": [
    "# Question 2\n",
    "Using list comprehension (and zip/lambda/etc if required) write five different expressions that:\n",
    "\n",
    "- add 2 iterables a and b such that a is even and b is odd\n",
    "- strips every vowel from a string provided (tsai>>t s)\n",
    "- acts like a ReLU function for a 1D array\n",
    "- acts like a sigmoid function for a 1D array\n",
    "- takes a small character string and shifts all characters by 5 (handle boundary conditions) tsai>>yxfn\n"
   ]
  },
  {
   "cell_type": "code",
   "execution_count": 68,
   "metadata": {},
   "outputs": [
    {
     "name": "stdout",
     "output_type": "stream",
     "text": [
      "[1, 5, 9, 13, 17]\n"
     ]
    }
   ],
   "source": [
    "#add 2 iterables a and b such that a is even and b is odd\n",
    "addition= [x+y for x,y in zip(range(1,10,2),range(0,10,2))]\n",
    "print (addition)"
   ]
  },
  {
   "cell_type": "code",
   "execution_count": 64,
   "metadata": {},
   "outputs": [
    {
     "name": "stdout",
     "output_type": "stream",
     "text": [
      "['p', 'y', 't', 'h', 'n']\n"
     ]
    }
   ],
   "source": [
    "#strips every vowel from a string provided (tsai>>t s)\n",
    "print(list(filter(lambda x: x not in \"aeiou\", \"python\")))"
   ]
  },
  {
   "cell_type": "code",
   "execution_count": 95,
   "metadata": {},
   "outputs": [
    {
     "name": "stdout",
     "output_type": "stream",
     "text": [
      "[0, 1, 3, 4]\n"
     ]
    }
   ],
   "source": [
    "#acts like a ReLU function for a 1D array\n",
    "list1 = [-3,-1,0,1,3,4,-10]\n",
    "print (list(filter(lambda x:x >=0,list1)))\n",
    "g = [x for x in range(-7,7) if x > -1]\n",
    "#print (g)"
   ]
  },
  {
   "cell_type": "code",
   "execution_count": 107,
   "metadata": {},
   "outputs": [
    {
     "name": "stdout",
     "output_type": "stream",
     "text": [
      "random list [-10, 6, 7, 0, 9]\n",
      "relu values [0, 6, 7, 0, 9]\n"
     ]
    }
   ],
   "source": [
    "#acts like a sigmoid function for a 1D array\n",
    "import random\n",
    "random_list = random.sample(range(-10,10), 5)\n",
    "print (\"random list\",random_list)\n",
    "relu_vals = lambda x: x if x>=0 else 0 \n",
    "print(\"relu values\",list(map(relu_vals,random_list)))"
   ]
  },
  {
   "cell_type": "code",
   "execution_count": 112,
   "metadata": {},
   "outputs": [
    {
     "name": "stdout",
     "output_type": "stream",
     "text": [
      "random list [-10, 2, 6, -2, 8]\n",
      "sigmoid values [4.5397868702434395e-05, 0.8807970779778823, 0.9975273768433653, 0.11920292202211755, 0.9996646498695336]\n"
     ]
    }
   ],
   "source": [
    "import math\n",
    "random_list = random.sample(range(-10,10), 5)\n",
    "print (\"random list\",random_list)\n",
    "sigmoid = lambda x: 1/ (1 + math.exp(-x))\n",
    "print (\"sigmoid values\",list(map(sigmoid,random_list)))"
   ]
  },
  {
   "cell_type": "code",
   "execution_count": 153,
   "metadata": {},
   "outputs": [
    {
     "name": "stdout",
     "output_type": "stream",
     "text": [
      "random_string : eumhf\n",
      "5 letters shifted string : jzrmk\n"
     ]
    }
   ],
   "source": [
    "#takes a small character string and shifts all characters by 5 (handle boundary conditions) tsai>>yxfn\n",
    "import string\n",
    "random_str = ''.join(random.choices(string.ascii_lowercase, k=5))\n",
    "print (\"random_string :\",random_str)\n",
    "func1 = lambda x: chr((ord(x) - 97 + 5 % 26) % 26 + 97)\n",
    "print (\"5 letters shifted string :\",''.join(list(map(func1,random_str))))"
   ]
  }
 ],
 "metadata": {
  "kernelspec": {
   "display_name": "Python 3",
   "language": "python",
   "name": "python3"
  },
  "language_info": {
   "codemirror_mode": {
    "name": "ipython",
    "version": 3
   },
   "file_extension": ".py",
   "mimetype": "text/x-python",
   "name": "python",
   "nbconvert_exporter": "python",
   "pygments_lexer": "ipython3",
   "version": "3.8.3"
  }
 },
 "nbformat": 4,
 "nbformat_minor": 4
}
